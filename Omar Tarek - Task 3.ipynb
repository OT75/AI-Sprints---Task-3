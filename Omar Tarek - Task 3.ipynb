{
  "nbformat": 4,
  "nbformat_minor": 0,
  "metadata": {
    "colab": {
      "provenance": [],
      "collapsed_sections": []
    },
    "kernelspec": {
      "name": "python3",
      "display_name": "Python 3"
    },
    "language_info": {
      "name": "python"
    },
    "gpuClass": "standard"
  },
  "cells": [
    {
      "cell_type": "markdown",
      "source": [
        "## Import libraries"
      ],
      "metadata": {
        "id": "_iy0pyqlqwnV"
      }
    },
    {
      "cell_type": "code",
      "execution_count": 2,
      "metadata": {
        "id": "nC96btiHqke-"
      },
      "outputs": [],
      "source": [
        "import numpy as np\n",
        "import pandas as pd\n",
        "import matplotlib.pyplot as plt\n",
        "from sklearn import metrics"
      ]
    },
    {
      "cell_type": "markdown",
      "source": [
        "## Load the data"
      ],
      "metadata": {
        "id": "rZJ5GCvOq2jK"
      }
    },
    {
      "cell_type": "code",
      "source": [
        "data = pd.read_csv('USA_Students.csv')\n",
        "print(data.describe())\n",
        "X=data['SAT']\n",
        "Y=data['GPA']\n",
        "print(data.shape)\n",
        "print(X.shape)"
      ],
      "metadata": {
        "colab": {
          "base_uri": "https://localhost:8080/"
        },
        "id": "vdnQzKVhq3Mf",
        "outputId": "91bf5152-9a88-4a9b-9f45-f4c2b55a50d6"
      },
      "execution_count": 5,
      "outputs": [
        {
          "output_type": "stream",
          "name": "stdout",
          "text": [
            "               SAT          IQ        GPA\n",
            "count    84.000000   84.000000  84.000000\n",
            "mean   1845.273810  111.928571   3.330238\n",
            "std     104.530661    8.050721   0.271617\n",
            "min    1634.000000   96.000000   2.400000\n",
            "25%    1772.000000  106.000000   3.190000\n",
            "50%    1846.000000  112.000000   3.380000\n",
            "75%    1934.000000  119.000000   3.502500\n",
            "max    2050.000000  128.000000   3.810000\n",
            "(84, 3)\n",
            "(84,)\n"
          ]
        }
      ]
    },
    {
      "cell_type": "markdown",
      "source": [
        "## Plot the samples"
      ],
      "metadata": {
        "id": "pXTzCL1yq5Yj"
      }
    },
    {
      "cell_type": "code",
      "source": [
        "plt.scatter(X, Y)\n",
        "plt.xlabel('SAT', fontsize = 20)\n",
        "plt.ylabel('GPA', fontsize = 20)\n",
        "plt.show()"
      ],
      "metadata": {
        "colab": {
          "base_uri": "https://localhost:8080/",
          "height": 288
        },
        "id": "NntuwwQgq8IZ",
        "outputId": "ab2d8d3f-8091-4cee-871f-e6bf845592c8"
      },
      "execution_count": 6,
      "outputs": [
        {
          "output_type": "display_data",
          "data": {
            "text/plain": [
              "<Figure size 432x288 with 1 Axes>"
            ],
            "image/png": "[encoded data removed]"
          },
          "metadata": {
            "needs_background": "light"
          }
        }
      ]
    },
    {
      "cell_type": "markdown",
      "source": [
        "## Hyper-prameters"
      ],
      "metadata": {
        "id": "cXs7utKJq_Vj"
      }
    },
    {
      "cell_type": "code",
      "source": [
        "L = 0.0000001  # The learning Rate\n",
        "epochs = 100  # The number of iterations to perform gradient descent\n",
        "m=0\n",
        "c=0\n",
        "n = float(len(X)) # Number of elements in X"
      ],
      "metadata": {
        "id": "-iAcECVcrEE7"
      },
      "execution_count": 7,
      "outputs": []
    },
    {
      "cell_type": "markdown",
      "source": [
        "## Gradient Descent Algorithm"
      ],
      "metadata": {
        "id": "h7q5g-WmrHCg"
      }
    },
    {
      "cell_type": "code",
      "source": [
        "for i in range(epochs):\n",
        "\n",
        "    # Step 1 : Calculate YHAT\n",
        "    Y_pred = m*X + c  # The current predicted value of Y\n",
        "    \n",
        "    # Step 2 : Get Gradients\n",
        "    D_m = (-2/n) * sum(X * (Y - Y_pred))  # Derivative wrt m\n",
        "    D_c = (-2/n) * sum(Y - Y_pred)  # Derivative wrt c\n",
        "    \n",
        "    # Step : Update\n",
        "    m = m - L * D_m  # Update m\n",
        "    c = c - L * D_c  # Update c"
      ],
      "metadata": {
        "id": "bvTWIbTarJ-Z"
      },
      "execution_count": 8,
      "outputs": []
    },
    {
      "cell_type": "markdown",
      "source": [
        "## Evaluation"
      ],
      "metadata": {
        "id": "HNt8biVHrLPB"
      }
    },
    {
      "cell_type": "code",
      "source": [
        "prediction=X*m+c\n",
        "plt.scatter(X, Y)\n",
        "plt.xlabel('SAT', fontsize = 20)\n",
        "plt.ylabel('GPA', fontsize = 20)\n",
        "plt.plot(X, prediction, color='red', linewidth = 3)\n",
        "plt.show()\n",
        "\n",
        "print('Mean Square Error', metrics.mean_squared_error(Y, prediction))"
      ],
      "metadata": {
        "colab": {
          "base_uri": "https://localhost:8080/",
          "height": 305
        },
        "id": "xqNURTC9rOwj",
        "outputId": "d62d64d8-a917-4701-a63d-576b2420e5e5"
      },
      "execution_count": 9,
      "outputs": [
        {
          "output_type": "display_data",
          "data": {
            "text/plain": [
              "<Figure size 432x288 with 1 Axes>"
            ],
            "image/png": "[encoded data removed]"
          },
          "metadata": {
            "needs_background": "light"
          }
        },
        {
          "output_type": "stream",
          "name": "stdout",
          "text": [
            "Mean Square Error 0.043539966469155686\n"
          ]
        }
      ]
    },
    {
      "cell_type": "markdown",
      "source": [
        "## Prediction"
      ],
      "metadata": {
        "id": "AOAUQePPr0Jd"
      }
    },
    {
      "cell_type": "code",
      "source": [
        "#Predict your GPA based on your SAT Score\n",
        "STA_Score=int(input('Enter your SAT score: '))\n",
        "y_test=m*STA_Score + c\n",
        "print('Your predicted GPA is ' + str(float(y_test)))"
      ],
      "metadata": {
        "colab": {
          "base_uri": "https://localhost:8080/"
        },
        "id": "w6cQEOoArz0-",
        "outputId": "5bde6917-6b53-4ce0-fc13-c6eb4add070b"
      },
      "execution_count": 13,
      "outputs": [
        {
          "output_type": "stream",
          "name": "stdout",
          "text": [
            "Enter your SAT score: 1000\n",
            "0.0018042676141872154 9.920738032766782e-07\n",
            "Your predicted GPA is 1.8042686062610187\n"
          ]
        }
      ]
    },
    {
      "cell_type": "markdown",
      "source": [
        "# Exercise 3"
      ],
      "metadata": {
        "id": "WHqX0Ajr9HGU"
      }
    },
    {
      "cell_type": "markdown",
      "source": [
        "## Feature Encoding"
      ],
      "metadata": {
        "id": "K2xpDHTF9qlm"
      }
    },
    {
      "cell_type": "code",
      "source": [
        "from sklearn.preprocessing import LabelEncoder\n",
        "def Feature_Encoder(X,cols): ## To map strings into weighted integers\n",
        "    for c in cols:\n",
        "        lbl = LabelEncoder()\n",
        "        lbl.fit(list(X[c].values))\n",
        "        X[c] = lbl.transform(list(X[c].values))\n",
        "    return X"
      ],
      "metadata": {
        "id": "UTn7M5DX9sTE"
      },
      "execution_count": 16,
      "outputs": []
    },
    {
      "cell_type": "markdown",
      "source": [
        "## Data preprocessing"
      ],
      "metadata": {
        "id": "yWuaAPV29wsS"
      }
    },
    {
      "cell_type": "code",
      "source": [
        "# Import libraries\n",
        "import numpy as np\n",
        "import pandas as pd\n",
        "import seaborn as sns\n",
        "import matplotlib.pyplot as plt\n",
        "from sklearn import linear_model\n",
        "from sklearn import metrics\n",
        "from sklearn.model_selection import train_test_split\n",
        "\n",
        "# Pre-processing\n",
        "#Load players data\n",
        "data = pd.read_csv('fifa19.csv')\n",
        "#Drop the rows that contain missing values\n",
        "data.dropna(how='any',inplace=True)\n",
        "fifa_data=data.iloc[:,:]\n",
        "X=data.iloc[:,1:40] #Features\n",
        "print(X)\n",
        "Y=data['Value'] #Label\n",
        "cols=('Nationality','Club','Position')\n",
        "X=Feature_Encoder(X,cols);\n",
        "\n",
        "#Split the data to training and testing sets\n",
        "X_train, X_test, y_train, y_test = train_test_split(X, Y, test_size = 0.30,shuffle=True) ## 0.30 means for 1000 data 700 for training and 300 for test\n",
        "#Get the correlation between the features\n",
        "corr = fifa_data.corr() ## this is extra\n",
        "#Top 50% Correlation training features with the Value\n",
        "top_feature = corr.index[abs(corr['Value']>0.5)] ## Feature with high correlation\n",
        "#Correlation plot\n",
        "plt.subplots(figsize=(12, 8))\n",
        "top_corr = fifa_data[top_feature].corr()\n",
        "sns.heatmap(top_corr, annot=True)\n",
        "plt.show()\n",
        "print(top_feature)"
      ],
      "metadata": {
        "colab": {
          "base_uri": "https://localhost:8080/",
          "height": 1000
        },
        "id": "0OM4se_a9LcM",
        "outputId": "6615a011-7e12-4a81-9769-e38649c57cf5"
      },
      "execution_count": 17,
      "outputs": [
        {
          "output_type": "stream",
          "name": "stdout",
          "text": [
            "       Age Nationality  Overall  Potential                 Club Position  \\\n",
            "0       31   Argentina       94         94         FC Barcelona       RF   \n",
            "1       33    Portugal       94         94             Juventus       ST   \n",
            "2       26      Brazil       92         93  Paris Saint-Germain       LW   \n",
            "3       27       Spain       91         93    Manchester United       GK   \n",
            "4       27     Belgium       91         92      Manchester City      RCM   \n",
            "...    ...         ...      ...        ...                  ...      ...   \n",
            "17950   19     England       47         65      Crewe Alexandra       CM   \n",
            "17951   19      Sweden       47         63       Trelleborgs FF       ST   \n",
            "17952   16     England       47         67     Cambridge United       ST   \n",
            "17953   17     England       47         66      Tranmere Rovers       RW   \n",
            "17954   16     England       46         66      Tranmere Rovers       CM   \n",
            "\n",
            "       Crossing  Finishing  HeadingAccuracy  ShortPassing  ...  Vision  \\\n",
            "0          84.0       95.0             70.0          90.0  ...    94.0   \n",
            "1          84.0       94.0             89.0          81.0  ...    82.0   \n",
            "2          79.0       87.0             62.0          84.0  ...    87.0   \n",
            "3          17.0       13.0             21.0          50.0  ...    68.0   \n",
            "4          93.0       82.0             55.0          92.0  ...    94.0   \n",
            "...         ...        ...              ...           ...  ...     ...   \n",
            "17950      34.0       38.0             40.0          49.0  ...    52.0   \n",
            "17951      23.0       52.0             52.0          43.0  ...    33.0   \n",
            "17952      25.0       40.0             46.0          38.0  ...    43.0   \n",
            "17953      44.0       50.0             39.0          42.0  ...    47.0   \n",
            "17954      41.0       34.0             46.0          48.0  ...    49.0   \n",
            "\n",
            "       Penalties  Composure  Marking  StandingTackle  SlidingTackle  GKDiving  \\\n",
            "0           75.0       96.0     33.0            28.0           26.0       6.0   \n",
            "1           85.0       95.0     28.0            31.0           23.0       7.0   \n",
            "2           81.0       94.0     27.0            24.0           33.0       9.0   \n",
            "3           40.0       68.0     15.0            21.0           13.0      90.0   \n",
            "4           79.0       88.0     68.0            58.0           51.0      15.0   \n",
            "...          ...        ...      ...             ...            ...       ...   \n",
            "17950       43.0       45.0     40.0            48.0           47.0      10.0   \n",
            "17951       43.0       42.0     22.0            15.0           19.0      10.0   \n",
            "17952       55.0       41.0     32.0            13.0           11.0       6.0   \n",
            "17953       50.0       46.0     20.0            25.0           27.0      14.0   \n",
            "17954       33.0       43.0     40.0            43.0           50.0      10.0   \n",
            "\n",
            "       GKHandling  GKKicking  GKPositioning  \n",
            "0            11.0       15.0           14.0  \n",
            "1            11.0       15.0           14.0  \n",
            "2             9.0       15.0           15.0  \n",
            "3            85.0       87.0           88.0  \n",
            "4            13.0        5.0           10.0  \n",
            "...           ...        ...            ...  \n",
            "17950        13.0        7.0            8.0  \n",
            "17951         9.0        9.0            5.0  \n",
            "17952         5.0       10.0            6.0  \n",
            "17953         6.0       14.0            8.0  \n",
            "17954        15.0        9.0           12.0  \n",
            "\n",
            "[17907 rows x 39 columns]\n"
          ]
        },
        {
          "output_type": "display_data",
          "data": {
            "text/plain": [
              "<Figure size 864x576 with 2 Axes>"
            ],
            "image/png": "[encoded data removed]"
          },
          "metadata": {
            "needs_background": "light"
          }
        },
        {
          "output_type": "stream",
          "name": "stdout",
          "text": [
            "Index(['Overall', 'Potential', 'Reactions', 'Value'], dtype='object')\n"
          ]
        }
      ]
    },
    {
      "cell_type": "markdown",
      "source": [
        "## Multiple Linear Regression"
      ],
      "metadata": {
        "id": "Ztb9rLzz98bI"
      }
    },
    {
      "cell_type": "code",
      "source": [
        "cls = linear_model.LinearRegression()\n",
        "\n",
        "L = 0.0000001  # The learning Rate\n",
        "epochs = 1000  # The number of iterations to perform gradient descent\n",
        "m1=0 ## Overall\n",
        "m2=0 ## Potential\n",
        "m3=0 ## Reaction\n",
        "c=0\n",
        "n = float(len(X_train)) # Number of elements in X\n",
        "x1 = X[\"Overall\"]\n",
        "x2 = X[\"Potential\"]\n",
        "x3 = X[\"Reactions\"]\n",
        "for i in range(epochs):\n",
        "# Student code   \n",
        "  # Calcualte YHat\n",
        "  yPred = m1*x1 + m2*x2 + m3*x3 + c\n",
        "  # Get Gradiants\n",
        "  D_m1 = (-2/n) * sum(x1 * (Y - yPred))\n",
        "  D_m2 = (-2/n) * sum(x2 * (Y - yPred))\n",
        "  D_m3 = (-2/n) * sum(x3 * (Y - yPred))\n",
        "  D_c =  (-2/n) * sum((Y - yPred))\n",
        "  # Update \n",
        "  m1 = m1 - L * D_m1 \n",
        "  m2 = m2 - L * D_m2 \n",
        "  m3 = m3 - L * D_m3  \n",
        "  c = c   - L * D_c  \n",
        "print(m1)\n",
        "print(\"\\n\")\n",
        "print(m2)\n",
        "print(\"\\n\")\n",
        "print(m3)\n",
        "print(\"\\n\")\n",
        "print(c)"
      ],
      "metadata": {
        "id": "MON9RfRu-GBk",
        "colab": {
          "base_uri": "https://localhost:8080/"
        },
        "outputId": "2dd26630-b47f-431f-d0e8-d1c0d555efc8"
      },
      "execution_count": 20,
      "outputs": [
        {
          "output_type": "stream",
          "name": "stdout",
          "text": [
            "0.013799712704285275\n",
            "\n",
            "\n",
            "0.013139443228511325\n",
            "\n",
            "\n",
            "0.014095333346340047\n",
            "\n",
            "\n",
            "0.00010780979387985077\n"
          ]
        }
      ]
    },
    {
      "cell_type": "markdown",
      "source": [
        "## Prediction"
      ],
      "metadata": {
        "id": "FmBrijtU-UQi"
      }
    },
    {
      "cell_type": "code",
      "source": [
        "prediction=np.array(X_test)[:,0]*m1+np.array(X_test)[:,1]*m2+np.array(X_test)[:,2]*m3+c\n",
        "\n",
        "cls.fit(X_train,y_train)\n",
        "prediction2= cls.predict(X_test)\n",
        "\n",
        "print('Co-efficient of linear regression',cls.coef_)\n",
        "print('Intercept of linear regression model',cls.intercept_)\n",
        "print('Mean Square Error', metrics.mean_squared_error(np.asarray(y_test), prediction))\n",
        "print('Mean Square Error 2', metrics.mean_squared_error(np.asarray(y_test), prediction2))\n",
        "\n",
        "true_player_value=np.asarray(y_test)[1]\n",
        "predicted_player_value=prediction[1]\n",
        "\n",
        "print('True value for the first player in the test set in millions is : ' + str(true_player_value))\n",
        "print('Predicted value for the first player in the test set in millions is : ' + str(predicted_player_value))"
      ],
      "metadata": {
        "colab": {
          "base_uri": "https://localhost:8080/"
        },
        "id": "_Do_JSiF-VSh",
        "outputId": "11e3ad7b-0f00-4ffe-bfc3-2d95a86ffb1d"
      },
      "execution_count": null,
      "outputs": [
        {
          "output_type": "stream",
          "name": "stdout",
          "text": [
            "Co-efficient of linear regression [-2.78136833e-01 -8.31235120e-04  5.58880845e-01  4.68681588e-02\n",
            "  2.95449291e-04 -9.30922235e-03 -5.71797355e-03  1.43505995e-02\n",
            " -1.18080523e-02 -9.96967959e-03  2.58526699e-02 -7.47292285e-03\n",
            "  2.73561960e-03  7.31091671e-03  7.68659270e-03 -4.19998473e-02\n",
            " -4.28437523e-04 -5.32703230e-03 -2.23767050e-02  5.39315754e-02\n",
            "  1.68558569e-02 -2.01562882e-02 -2.31931139e-03 -7.93235881e-03\n",
            " -7.56069339e-03 -2.22117014e-02 -2.53275744e-03 -1.07553041e-02\n",
            "  1.28781482e-02  2.06752437e-02  2.73898620e-03  4.26488986e-03\n",
            "  5.89932948e-03  1.36637931e-02 -1.81440042e-02 -9.07341133e-03\n",
            " -2.60060680e-03  2.13863090e-03 -3.48015428e-02]\n",
            "Intercept of linear regression model -29.31376843057226\n",
            "Mean Square Error 37.70708290412896\n",
            "Mean Square Error 2 20.692364392131893\n",
            "True value for the first player in the test set in millions is : 5.5\n",
            "Predicted value for the first player in the test set in millions is : 2.344397952166351\n"
          ]
        }
      ]
    },
    {
      "cell_type": "markdown",
      "source": [
        "## Polynomial Regression"
      ],
      "metadata": {
        "id": "23JLL0Q3-WV4"
      }
    },
    {
      "cell_type": "code",
      "source": [
        "import numpy as np\n",
        "import pandas as pd\n",
        "import seaborn as sns\n",
        "import matplotlib.pyplot as plt\n",
        "from sklearn import linear_model\n",
        "from sklearn import metrics\n",
        "from sklearn.model_selection import train_test_split\n",
        "from sklearn.preprocessing import PolynomialFeatures\n",
        "\n",
        "#Load players data\n",
        "data = pd.read_csv('fifa19.csv')\n",
        "#Drop the rows that contain missing values\n",
        "data.dropna(how='any',inplace=True)\n",
        "fifa_data=data.iloc[:,:]\n",
        "X=data.iloc[:,1:40] #Features\n",
        "Y=data['Value'] #Label\n",
        "cols=('Nationality','Club','Position')\n",
        "X=Feature_Encoder(X,cols);\n",
        "\n",
        "#Split the data to training and testing sets\n",
        "X_train, X_test, y_train, y_test = train_test_split(X, Y, test_size = 0.30)\n",
        "#Get the correlation between the features\n",
        "corr = fifa_data.corr()\n",
        "#Top 50% Correlation training features with the Value\n",
        "top_feature = corr.index[abs(corr['Value']>0.5)]\n",
        "#Correlation plot\n",
        "plt.subplots(figsize=(12, 8))\n",
        "top_corr = fifa_data[top_feature].corr()\n",
        "sns.heatmap(top_corr, annot=True)\n",
        "plt.show()\n",
        "\n",
        "poly_features = PolynomialFeatures(degree=2)\n",
        "\n",
        "# transforms the existing features to higher degree features.\n",
        "X_train_poly = poly_features.fit_transform(X_train)\n",
        "\n",
        "# fit the transformed features to Linear Regression\n",
        "poly_model = linear_model.LinearRegression()\n",
        "poly_model.fit(X_train_poly, y_train)\n",
        "\n",
        "# predicting on training data-set\n",
        "y_train_predicted = poly_model.predict(X_train_poly)\n",
        "\n",
        "# predicting on test data-set\n",
        "prediction = poly_model.predict(poly_features.fit_transform(X_test))\n",
        "\n",
        "\n",
        "print('Co-efficient of linear regression',poly_model.coef_)\n",
        "print('Intercept of linear regression model',poly_model.intercept_)\n",
        "print('Mean Square Error', metrics.mean_squared_error(y_test, prediction))\n",
        "\n",
        "true_player_value=np.asarray(y_test)[0]\n",
        "predicted_player_value=prediction[0]\n",
        "print('True value for the first player in the test set in millions is : ' + str(true_player_value))\n",
        "print('Predicted value for the first player in the test set in millions is : ' + str(predicted_player_value))"
      ],
      "metadata": {
        "colab": {
          "base_uri": "https://localhost:8080/",
          "height": 1000
        },
        "id": "rIpjp5CJ-Xrc",
        "outputId": "19d73f72-9eb5-4813-a522-0bf196501c05"
      },
      "execution_count": null,
      "outputs": [
        {
          "output_type": "display_data",
          "data": {
            "text/plain": [
              "<Figure size 864x576 with 2 Axes>"
            ],
            "image/png": "[encoded data removed]"
          },
          "metadata": {
            "needs_background": "light"
          }
        },
        {
          "output_type": "stream",
          "name": "stdout",
          "text": [
            "Co-efficient of linear regression [ 3.44492288e-12  3.99981459e+00  2.20446047e-02 -6.61575887e+00\n",
            "  1.18651753e-01  4.07666559e-03  1.36521587e-01 -4.53069226e-02\n",
            " -7.52928398e-02  7.48236025e-02  1.41813502e-01 -1.55093919e-01\n",
            "  1.54721860e-01  8.90191243e-02 -4.08948601e-01 -2.15231025e-01\n",
            "  3.55557383e-01  2.60064206e-01 -1.03136187e-02  7.01842364e-02\n",
            " -5.00988803e-01 -8.14866856e-03  2.76918791e-01 -1.43240443e-01\n",
            " -3.63079642e-02  1.26084106e-01  1.43347142e-01  1.27357251e-01\n",
            "  2.16577955e-02 -1.90946621e-01 -1.56565710e-01  1.12862225e-01\n",
            "  1.39085023e-02 -1.71188878e-02  1.03195351e-01  2.21419798e-01\n",
            "  2.41229600e-01  5.41250677e-01 -1.64584739e-01  8.35891204e-02\n",
            " -1.60225702e-02  3.30733666e-04 -2.42621933e-02 -2.83700639e-02\n",
            " -1.85227227e-05  1.62846367e-03  2.67242219e-03 -5.23354078e-04\n",
            "  8.64418655e-04  2.96574187e-03 -2.62390476e-03  2.29669957e-03\n",
            " -1.80943585e-03  2.51782436e-03 -2.70872434e-03  2.85836670e-03\n",
            " -2.43886454e-03  1.68370138e-03 -4.03861290e-04 -1.64346492e-03\n",
            " -2.34087226e-03  2.13038537e-03  2.81618317e-03  6.33585335e-04\n",
            " -4.05906835e-04  1.04816453e-03 -1.05740036e-03  2.66745765e-03\n",
            "  1.42610917e-03 -2.87172739e-03 -1.43406259e-04 -3.15711856e-03\n",
            "  1.33988850e-03  3.66164613e-03 -5.11543933e-03  1.13535366e-03\n",
            " -7.00759390e-03  7.41231265e-03  5.54300303e-03 -1.24238518e-06\n",
            " -1.02591172e-03  1.28530788e-04  1.27864488e-06  1.05602880e-04\n",
            "  4.22649698e-06  1.03733135e-04  7.91172141e-05  8.08843382e-05\n",
            " -6.26468639e-05  1.39030954e-04  4.06180648e-05 -6.34421703e-05\n",
            "  3.13495041e-05 -2.21933193e-04 -7.82597587e-05  1.08176002e-04\n",
            "  1.39253010e-04  1.17788383e-05 -1.54596369e-04  1.30104823e-04\n",
            "  7.49420380e-05 -2.06925058e-05 -3.59876583e-05 -1.32658984e-04\n",
            "  1.12540962e-04  3.55075048e-05 -1.53363182e-05  7.07247303e-06\n",
            "  7.62095598e-07 -2.75230411e-06  5.44812029e-05  1.67971310e-04\n",
            " -1.33766687e-04 -1.24762155e-04  1.62364466e-04  1.16733987e-04\n",
            "  1.06306326e-04  5.63477559e-02  2.42105442e-02 -1.98831646e-05\n",
            " -1.01423005e-03 -4.26093514e-03  8.87471826e-04  1.55059118e-04\n",
            " -4.51682086e-03  6.21963988e-03 -7.22112511e-03  1.94518561e-03\n",
            "  2.27521433e-03  4.20086120e-03 -4.07520256e-03  9.29665258e-04\n",
            " -1.29223019e-03 -5.89615834e-05  3.37930413e-03  2.83278541e-03\n",
            " -5.13867034e-03 -2.01809005e-03 -8.68494410e-04 -6.31600439e-04\n",
            " -2.96089696e-03  1.64338756e-04 -1.69834692e-03  1.10105608e-03\n",
            " -1.07380882e-04 -1.83809560e-03  1.97718933e-03 -1.01167220e-03\n",
            " -7.19197958e-03  1.84052474e-03 -5.93954178e-03  2.98450906e-03\n",
            " -1.56706960e-03 -1.28539718e-02 -4.99853218e-03 -2.16740258e-05\n",
            " -2.32513436e-04  2.36399917e-03  3.86429733e-04  7.53482358e-04\n",
            "  1.49794170e-04 -1.04196966e-03 -1.00715094e-03 -1.76504790e-03\n",
            "  3.71796047e-03 -1.13237900e-04  3.96004805e-04 -2.88124013e-03\n",
            "  7.98111332e-04 -1.35932127e-03  2.26990123e-03  1.05015593e-04\n",
            " -8.93295938e-04  1.80168310e-03  1.24635943e-04 -1.34145199e-03\n",
            " -8.45182683e-04 -1.57656445e-03 -4.73652466e-04  9.19437681e-04\n",
            " -2.11294064e-04  1.08540703e-03 -3.63456158e-03  4.26902686e-04\n",
            "  3.66935125e-03 -4.65110457e-03 -3.55490507e-04 -7.29404146e-03\n",
            "  2.92912640e-03  3.18635222e-03 -1.98383124e-06  1.00361077e-05\n",
            " -9.01634659e-06 -6.78515452e-06 -3.13301636e-05 -2.87871326e-05\n",
            "  4.77415421e-06  2.56250630e-06  1.77625861e-06 -1.09845850e-05\n",
            "  1.24025171e-05  6.29857323e-05 -8.37900400e-07 -1.59555629e-05\n",
            "  9.61481397e-07  3.78966988e-05 -2.37289350e-06 -1.31480589e-05\n",
            " -8.62740357e-06  1.86768172e-05  1.09639483e-05  7.74837358e-06\n",
            "  1.91009003e-06  1.11000105e-05 -2.08239581e-05 -1.33817922e-05\n",
            "  4.82130278e-06 -3.04379152e-07 -4.69064471e-06  1.20979954e-05\n",
            " -2.17108814e-05 -8.58513688e-06 -4.26864208e-05 -2.18169091e-05\n",
            "  4.70098158e-05 -1.17144870e-03 -5.52497212e-06 -4.41119342e-04\n",
            " -9.24762508e-04  1.23095144e-03 -8.00098308e-04  1.32664261e-03\n",
            " -9.08584448e-05 -4.68401584e-04 -7.05028681e-05 -1.93968678e-03\n",
            "  3.11111128e-04 -6.21656124e-04  8.32163761e-04  1.59867517e-04\n",
            " -8.87917984e-04  1.13474076e-03 -7.66406246e-05 -6.21085258e-04\n",
            "  1.77754207e-04  2.39716848e-04 -3.17751821e-04 -1.11313170e-04\n",
            "  2.54577049e-04  7.97183971e-05 -1.22317391e-04 -1.24328891e-04\n",
            " -1.37641237e-04  5.35454285e-05 -8.77167682e-05  1.72900391e-03\n",
            "  5.28221162e-04 -5.99133188e-04  1.02962806e-03  1.19739852e-04\n",
            "  1.89610300e-05  4.17304537e-04 -2.67401417e-04 -3.77326054e-05\n",
            " -8.96161757e-04 -8.64287525e-05 -2.10622884e-05 -7.49213610e-04\n",
            "  6.19178964e-04  7.24924719e-04 -5.40321454e-04 -1.11080059e-04\n",
            "  1.20037919e-03  3.81384438e-04  1.50443891e-04 -5.24721213e-05\n",
            "  1.39920419e-04  4.55833405e-04 -9.74860109e-05 -5.34223389e-05\n",
            "  4.92378104e-04 -1.08089450e-04  2.97801865e-04 -1.12440300e-04\n",
            " -6.11379313e-04  5.06030851e-04  5.59183520e-04 -1.24741638e-03\n",
            "  6.71254061e-04 -1.03296607e-04 -1.23794860e-03  7.31717504e-04\n",
            "  8.84139705e-05  5.27131172e-05 -3.48284725e-04  6.36239582e-04\n",
            "  1.62433712e-04  2.80611809e-04 -1.08189868e-04  3.32853534e-04\n",
            " -2.09515614e-03  1.25179735e-03 -1.14072296e-03 -1.08949229e-04\n",
            "  6.21372662e-04 -8.56816231e-05  3.51707028e-04  4.24489268e-04\n",
            "  1.62165186e-04 -3.86132913e-04 -5.45828864e-04  9.12643304e-06\n",
            "  4.31242486e-04  3.71424207e-04  2.94603897e-04 -4.11574936e-04\n",
            " -7.03238071e-05  9.85351152e-04 -8.63826082e-04  8.72888313e-05\n",
            "  1.04792709e-03 -2.36263370e-04 -3.61693485e-04 -1.19333493e-03\n",
            " -1.04423922e-03 -4.67271929e-04 -1.07998178e-04  4.53706983e-06\n",
            " -1.34910781e-04 -4.30998133e-05 -6.61321870e-04 -4.18381013e-04\n",
            "  6.12860313e-04 -6.29980497e-04 -8.56331112e-05  1.03463779e-03\n",
            " -2.17590423e-04 -2.25690335e-04  8.80379986e-05  4.70676375e-04\n",
            " -2.43901129e-04 -7.70377618e-05 -4.70054035e-05 -8.54913323e-04\n",
            " -4.97249984e-04  1.23319177e-03 -1.04173394e-05 -1.19513781e-05\n",
            "  8.36901272e-05 -6.74429795e-04  1.22874988e-03 -2.38078774e-03\n",
            " -1.93696935e-03  8.22542958e-04  1.09494367e-03  1.91542975e-04\n",
            " -1.00081471e-03  3.86511522e-04  4.27075298e-05 -1.19021379e-03\n",
            " -1.09978359e-03 -5.43580012e-04  5.95195019e-04  2.25736190e-04\n",
            " -7.76748499e-04  6.20878193e-05 -2.25150408e-04  1.26828707e-03\n",
            "  1.09631649e-04 -6.74223712e-04  3.57545174e-04  1.63783561e-03\n",
            " -3.38848130e-04  1.34171062e-03  5.28392286e-05  7.05023202e-04\n",
            "  3.52059366e-04 -7.46605097e-04 -2.79301498e-04 -4.47158036e-04\n",
            "  1.41272595e-03  2.88474239e-03  8.35756194e-05 -1.39105787e-03\n",
            " -9.66477234e-04 -1.36830079e-04 -3.60972633e-04  1.03488961e-04\n",
            "  3.10819126e-04 -2.43099611e-04  7.39879948e-04  3.97339197e-04\n",
            " -2.35243373e-04  6.06889384e-05 -9.46588985e-04 -2.34823124e-04\n",
            " -1.03900249e-03 -1.19909548e-04 -1.73874379e-05 -3.95825917e-04\n",
            "  1.53452391e-04  7.35453931e-04 -5.48985612e-04 -2.76901871e-04\n",
            "  6.10320169e-04  3.16158174e-04  2.66644275e-05 -4.29884013e-04\n",
            "  1.50690390e-04  4.96719040e-04 -7.87675381e-04  8.08091101e-04\n",
            "  4.54804405e-04 -8.06262475e-04  1.29075830e-03 -3.48488424e-04\n",
            " -2.83860566e-04 -2.34509960e-04 -2.01111389e-05 -8.38129379e-04\n",
            "  1.29678646e-03 -5.59480110e-04 -7.70166920e-04  3.33043635e-04\n",
            "  9.48160071e-04  7.51999455e-05 -3.70107739e-04  3.14602482e-04\n",
            " -6.16900627e-04  9.77739643e-04  3.19576994e-04 -9.64053512e-04\n",
            " -3.32512159e-04  3.98214457e-04  9.00170306e-04 -5.95573833e-04\n",
            "  6.85936927e-04  1.67361243e-03 -3.85160085e-04  1.06486248e-03\n",
            "  2.11484650e-03  5.21088503e-04 -5.40316336e-04  3.55471378e-04\n",
            "  1.84853826e-04 -1.04328948e-04 -2.22609967e-04 -3.46597717e-05\n",
            "  5.09664183e-04 -1.06232134e-04 -1.31025442e-04 -2.65128108e-04\n",
            "  4.22918133e-05 -4.09711757e-04  8.21648758e-05  1.91554153e-04\n",
            " -4.93785258e-04  4.19124906e-04  4.60321667e-04 -5.58075209e-05\n",
            "  9.58785717e-05  2.44274596e-04 -4.67147207e-04 -6.15408800e-04\n",
            "  1.13888912e-03 -3.57982702e-04 -3.34386125e-04 -6.10723419e-04\n",
            "  1.13954246e-04 -3.88485607e-06  3.18193711e-04 -5.90290880e-04\n",
            "  1.58758565e-04 -5.58043606e-05 -2.14842917e-04  3.88316275e-04\n",
            "  6.20775425e-04 -2.71802927e-04 -1.68962353e-04  2.88898754e-04\n",
            "  2.66725787e-04 -5.66583096e-05 -7.47416347e-05 -5.69375375e-04\n",
            "  7.38973792e-05 -1.73790333e-04 -3.05472413e-04  4.63437292e-04\n",
            " -1.03095034e-04  1.05634533e-03 -9.14574127e-04 -1.00845802e-03\n",
            " -1.16495180e-03  9.11522823e-04 -3.76683921e-06  1.44904738e-04\n",
            "  1.15985157e-03 -7.13819917e-05 -1.91374742e-04  4.11846538e-05\n",
            " -3.55134564e-04  1.63997756e-05 -6.62153812e-04  7.26240703e-04\n",
            "  4.08103262e-04 -4.29283546e-04 -3.55985806e-04 -4.58787516e-05\n",
            " -1.46295286e-03  9.08115948e-04 -3.49049629e-04  1.58568700e-06\n",
            "  1.13850836e-03  6.19893706e-04  1.39586344e-03 -6.74848147e-04\n",
            " -1.15302168e-03  1.94144534e-04  3.81455414e-04  7.09339159e-04\n",
            " -2.96588437e-04  1.17415418e-05 -2.43518806e-04  4.54940342e-04\n",
            " -6.42282442e-04 -5.28242295e-04 -4.95602333e-04 -5.91484729e-05\n",
            "  8.41765461e-04 -9.24297815e-04  4.66255407e-04 -6.10234414e-04\n",
            "  4.33990712e-04  2.66590500e-04 -8.56870739e-05  1.63960444e-03\n",
            "  1.18095919e-04  2.39627965e-04 -1.73183963e-03  1.95726200e-04\n",
            " -1.03264391e-04 -1.90785930e-03 -1.57175753e-03  2.39479407e-03\n",
            " -7.68382476e-05 -4.32919370e-04  7.25294827e-04 -2.96387237e-05\n",
            " -2.82129156e-04 -5.93298711e-04 -2.17193548e-04 -2.93694729e-04\n",
            " -2.28210277e-04  3.69485653e-04 -6.69455789e-05  9.05678886e-04\n",
            " -1.43308534e-03 -6.55364665e-05 -8.98138123e-04  5.80445349e-04\n",
            "  1.59215194e-04 -1.49627440e-03  4.04110378e-04  1.04646661e-03\n",
            " -6.82105958e-04  1.79709359e-04 -1.30704082e-03  5.78322357e-04\n",
            " -1.21320817e-03 -6.63851737e-04 -5.47003162e-04  5.84579113e-04\n",
            "  5.25477535e-04  4.14940379e-04 -2.29605380e-04  1.30382332e-05\n",
            " -3.58604824e-04  3.03152798e-04  7.50778669e-04  1.18196764e-04\n",
            "  4.40966152e-04  3.44158166e-04 -8.79317416e-05  9.60565729e-07\n",
            "  1.26378045e-04 -2.05805603e-03  7.86731665e-04  7.08751769e-04\n",
            "  1.25010681e-03  1.61353053e-04 -4.46296398e-04  1.99845745e-04\n",
            "  9.31166411e-05  6.53919564e-04  1.26668035e-04  3.73629627e-04\n",
            " -1.03767534e-05  2.44437053e-04 -6.30925546e-04  2.19858466e-04\n",
            "  3.51346368e-04 -2.39746623e-04 -5.08785133e-04  6.64816898e-05\n",
            "  2.89492144e-04  4.08159716e-04  4.73146381e-04 -2.60965153e-04\n",
            " -1.03615891e-03  8.47106893e-04  5.76754187e-04  5.23716241e-04\n",
            "  5.74581850e-04 -3.69084878e-04  6.38530964e-04 -9.67728355e-05\n",
            " -1.95498584e-04 -4.13901025e-04 -6.00778902e-04 -6.86136768e-04\n",
            "  7.02859697e-04 -7.31536089e-04  2.64685878e-03  6.10439720e-04\n",
            " -3.63335472e-04 -7.40272353e-04 -1.13508933e-03 -1.11090810e-03\n",
            "  1.15500650e-03  1.34362796e-03 -5.79047201e-05 -7.45029666e-04\n",
            " -9.85760145e-05  2.40179090e-05 -2.94696369e-04 -6.49357284e-05\n",
            "  2.33451808e-04 -3.97337600e-04  8.26438182e-04 -2.67846399e-04\n",
            " -3.93074530e-04  5.37720569e-04 -2.28459820e-05  8.76090485e-04\n",
            " -1.28986008e-03 -7.80845428e-04  5.17868441e-04  1.95401593e-04\n",
            " -8.60123527e-04  2.15869309e-04  2.52761592e-05 -5.24789021e-06\n",
            " -8.29081617e-05  2.41844623e-04 -6.52141283e-05 -6.75640186e-05\n",
            " -5.52185847e-04 -1.94839629e-04  7.83758755e-05 -5.96157285e-04\n",
            "  6.28373680e-04  4.27240734e-05  7.16055799e-04  2.80562734e-04\n",
            "  1.63134430e-03  5.21130389e-05 -7.52061347e-04 -1.57017635e-04\n",
            " -3.07871473e-05  2.78100829e-04 -5.98649143e-05 -9.96731750e-06\n",
            " -5.46952138e-04 -1.88153924e-05 -2.02913988e-04 -1.06833651e-04\n",
            " -2.57437410e-04  2.90685210e-04  2.29582377e-04  1.50526067e-04\n",
            " -3.23853457e-04 -5.52064791e-04  1.20711885e-03  7.10935963e-04\n",
            "  2.24068318e-04 -2.05111633e-04 -3.34309323e-04  2.88412539e-04\n",
            " -7.14968827e-05 -1.49380220e-04  9.42522745e-05  1.25347080e-04\n",
            " -3.26735486e-04 -1.35125731e-04  1.49261782e-04 -6.25198969e-04\n",
            "  8.20627532e-04  9.65996503e-04 -1.87347290e-03  2.87369946e-04\n",
            " -1.69820634e-04  5.27628466e-04  1.03427730e-04  1.41943232e-04\n",
            "  2.13469304e-04  7.22106979e-04 -3.90545441e-05  5.43138565e-04\n",
            "  1.60624214e-04  1.43672199e-03 -1.60240046e-03  8.17624714e-04\n",
            "  1.15675587e-03 -2.04645871e-03  1.29019015e-04  1.98117707e-04\n",
            " -3.46453858e-04  5.10417046e-04  1.41660795e-04 -8.87357958e-05\n",
            " -1.25256685e-04  1.50746063e-04 -3.10053303e-04  4.76510538e-04\n",
            " -6.83800067e-04  1.37278244e-03 -6.26032700e-04 -4.71773341e-04\n",
            "  3.27611600e-04 -2.12287329e-04  7.23628084e-04  8.70975661e-05\n",
            "  2.95015973e-04  6.55016073e-05 -1.47285757e-04 -4.25075114e-04\n",
            "  2.95866674e-04 -3.06185699e-04 -1.17597437e-05 -5.06692327e-04\n",
            "  1.17904220e-04  5.34743714e-04 -5.43664791e-04 -3.31664974e-04\n",
            "  9.46043522e-04 -2.55152339e-04  1.22620905e-04  4.29215796e-04\n",
            " -4.91162926e-04  5.21156116e-04  1.21684043e-04  1.23879163e-03\n",
            "  2.86994022e-04 -5.23637161e-04  9.86698389e-05  1.02103553e-04\n",
            " -1.74569339e-04 -5.37127114e-04 -4.79169888e-04  1.88592772e-03\n",
            " -8.68507609e-05  1.30406630e-04 -6.35370834e-04  7.99831224e-04\n",
            "  2.71332690e-04  1.89834938e-04  2.94645257e-05 -6.30168161e-04\n",
            "  4.24413665e-04 -4.64002961e-04 -4.11572815e-04 -2.78323741e-04\n",
            "  2.31695373e-03  4.64727081e-04 -4.82706327e-04  1.24011068e-05\n",
            " -6.53812753e-04 -4.73049587e-04 -5.80376483e-04  7.25866785e-04\n",
            "  1.30573074e-03 -9.15960049e-04  3.04416957e-04 -4.47201222e-06\n",
            "  2.47288697e-04  7.19572832e-06 -1.07584306e-03  9.19397748e-04\n",
            "  3.83559416e-04 -4.77421737e-04 -1.11121242e-03  1.07176072e-03\n",
            " -7.12551308e-04  2.74254953e-04 -2.24890565e-04 -2.48032597e-04\n",
            "  7.68072816e-04 -8.90111966e-04 -2.21145228e-04 -2.71909311e-04\n",
            " -3.34673582e-04  2.72966181e-03 -1.57090677e-04 -2.34940875e-03\n",
            " -8.96228998e-04  3.19039410e-04 -8.33962519e-04 -8.36482947e-04\n",
            "  3.77960694e-03  9.41061583e-04  2.52746468e-04  1.74763218e-03\n",
            "  1.05118854e-04 -1.75004448e-03 -1.07490718e-03 -2.48926625e-03\n",
            "  1.23460371e-03 -2.58083897e-04  1.66669111e-03  3.97031724e-04]\n",
            "Intercept of linear regression model 130.26484796423526\n",
            "Mean Square Error 4.6567156003882415\n",
            "True value for the first player in the test set in millions is : 0.16\n",
            "Predicted value for the first player in the test set in millions is : 0.2947880488890746\n"
          ]
        }
      ]
    }
  ]
}